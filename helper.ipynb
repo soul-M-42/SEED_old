{
 "cells": [
  {
   "cell_type": "code",
   "execution_count": 2,
   "metadata": {},
   "outputs": [
    {
     "data": {
      "text/plain": [
       "3394"
      ]
     },
     "execution_count": 2,
     "metadata": {},
     "output_type": "execute_result"
    }
   ],
   "source": [
    "sample=[235,233, 206, 238, 185, 195, 237, 216, 265, 237, 235, 233, 235, 238, 206]\n",
    "import numpy as np\n",
    "np.sum(sample)"
   ]
  },
  {
   "cell_type": "code",
   "execution_count": 3,
   "metadata": {},
   "outputs": [
    {
     "data": {
      "text/plain": [
       "200.0"
      ]
     },
     "execution_count": 3,
     "metadata": {},
     "output_type": "execute_result"
    }
   ],
   "source": [
    "678800 / 3394"
   ]
  },
  {
   "cell_type": "code",
   "execution_count": 8,
   "metadata": {},
   "outputs": [
    {
     "data": {
      "text/plain": [
       "3407.615999999999"
      ]
     },
     "execution_count": 8,
     "metadata": {},
     "output_type": "execute_result"
    }
   ],
   "source": [
    "video_len = [248.504,\n",
    "            233.008,\n",
    "            206.008,\n",
    "            238.008,\n",
    "            185.008,\n",
    "            195.008,\n",
    "            237.008,\n",
    "            216.008,\n",
    "            265.008,\n",
    "            237.008,\n",
    "            235.008,\n",
    "            233.008,\n",
    "            235.008,\n",
    "            238.008,\n",
    "            206.008]\n",
    "np.sum(video_len)"
   ]
  },
  {
   "cell_type": "code",
   "execution_count": 6,
   "metadata": {},
   "outputs": [
    {
     "data": {
      "text/plain": [
       "681523.2000000001"
      ]
     },
     "execution_count": 6,
     "metadata": {},
     "output_type": "execute_result"
    }
   ],
   "source": [
    "425952 * (200 / 125)"
   ]
  },
  {
   "cell_type": "code",
   "execution_count": 11,
   "metadata": {},
   "outputs": [
    {
     "name": "stdout",
     "output_type": "stream",
     "text": [
      "56\n",
      "87\n",
      "51\n",
      "80\n",
      "109\n",
      "107\n",
      "23\n",
      "24\n",
      "58\n",
      "89\n",
      "100\n",
      "11\n",
      "16\n",
      "64\n",
      "18\n",
      "63\n",
      "72\n",
      "75\n",
      "9\n",
      "7\n",
      "0\n",
      "35\n",
      "111\n",
      "98\n",
      "49\n",
      "116\n",
      "32\n",
      "118\n",
      "91\n",
      "40\n",
      "96\n",
      "47\n",
      "62\n",
      "65\n",
      "19\n",
      "17\n",
      "10\n",
      "25\n",
      "59\n",
      "88\n",
      "101\n",
      "106\n",
      "22\n",
      "50\n",
      "81\n",
      "108\n",
      "57\n",
      "86\n",
      "97\n",
      "46\n",
      "119\n",
      "90\n",
      "41\n",
      "117\n",
      "33\n",
      "34\n",
      "110\n",
      "99\n",
      "48\n",
      "1\n",
      "122\n",
      "6\n",
      "74\n",
      "8\n",
      "73\n",
      "93\n",
      "42\n",
      "39\n",
      "94\n",
      "45\n",
      "37\n",
      "113\n",
      "114\n",
      "30\n",
      "121\n",
      "79\n",
      "5\n",
      "2\n",
      "70\n",
      "77\n",
      "66\n",
      "61\n",
      "13\n",
      "68\n",
      "14\n",
      "105\n",
      "21\n",
      "26\n",
      "102\n",
      "28\n",
      "54\n",
      "85\n",
      "53\n",
      "82\n",
      "76\n",
      "71\n",
      "3\n",
      "120\n",
      "78\n",
      "4\n",
      "115\n",
      "31\n",
      "36\n",
      "112\n",
      "38\n",
      "95\n",
      "44\n",
      "92\n",
      "43\n",
      "52\n",
      "83\n",
      "29\n",
      "55\n",
      "84\n",
      "27\n",
      "103\n",
      "104\n",
      "20\n",
      "69\n",
      "15\n",
      "12\n",
      "60\n",
      "67\n"
     ]
    }
   ],
   "source": [
    "Faced_dir = '/mnt/dataset0/qingzhu/AutoICA_Processed_EEG/Faced/Processed_data_filter_epoch_0.50_47_Auto_ICA_def_Threshold/data'\n",
    "import os\n",
    "import scipy.io as sio\n",
    "\n",
    "def load_mat_files(directory):\n",
    "    data_out = np.zeros((123, 30, 228848))\n",
    "    \n",
    "    # 遍历指定目录下的所有文件\n",
    "    for filename in os.listdir(directory):\n",
    "        if filename.startswith(\"sub\") and filename.endswith(\".mat\"):\n",
    "            # 提取Sub_id\n",
    "            sub_id = filename[3:-4]  # 假设Sub_id位于\"Sub\"和\".mat\"之间\n",
    "            sub_id = int(sub_id)\n",
    "            print(sub_id)\n",
    "            # 构造文件完整路径\n",
    "            file_path = os.path.join(directory, filename)\n",
    "            # 读取.mat文件\n",
    "            mat_contents = sio.loadmat(file_path)\n",
    "            data_out[sub_id] = mat_contents['data_all_cleaned']\n",
    "            n_samples = mat_contents['n_samples_one']\n",
    "            # 将读取的数据存入字典\n",
    "            \n",
    "    return data_out, n_samples\n",
    "\n",
    "# 使用示例\n",
    "directory_path = Faced_dir\n",
    "data_Faced, n_samples = load_mat_files(directory_path)\n"
   ]
  },
  {
   "cell_type": "code",
   "execution_count": 12,
   "metadata": {},
   "outputs": [
    {
     "name": "stdout",
     "output_type": "stream",
     "text": [
      "(123, 30, 228848)\n",
      "[[ 80.992  62.992  72.992  77.992  68.992  89.992  55.992  59.992 104.992\n",
      "   44.992  59.992  80.992  34.992  43.992  37.992  42.992  54.992  68.992\n",
      "   72.992 128.992  76.992  75.     33.992  36.992  66.992  62.992  53.992\n",
      "   76.992]]\n"
     ]
    }
   ],
   "source": [
    "print(data_Faced.shape)\n",
    "print(n_samples)"
   ]
  },
  {
   "cell_type": "code",
   "execution_count": 16,
   "metadata": {},
   "outputs": [],
   "source": [
    "np.save('./data/Faced/data_all.npy', data_Faced)"
   ]
  },
  {
   "cell_type": "code",
   "execution_count": 21,
   "metadata": {},
   "outputs": [
    {
     "data": {
      "text/plain": [
       "228847.99999999997"
      ]
     },
     "execution_count": 21,
     "metadata": {},
     "output_type": "execute_result"
    }
   ],
   "source": [
    "np.sum(n_samples[0]) * 125"
   ]
  },
  {
   "cell_type": "code",
   "execution_count": 19,
   "metadata": {},
   "outputs": [],
   "source": [
    "n_samples_mat = {'n_samples': n_samples[0]}\n",
    "sio.savemat('./data/Faced/n_samples.mat', n_samples_mat)"
   ]
  },
  {
   "cell_type": "code",
   "execution_count": 22,
   "metadata": {},
   "outputs": [],
   "source": [
    "SEED_samples_new = [248.504,\n",
    "            233.008,\n",
    "            206.008,\n",
    "            238.008,\n",
    "            185.008,\n",
    "            195.008,\n",
    "            237.008,\n",
    "            216.008,\n",
    "            265.008,\n",
    "            237.008,\n",
    "            235.008,\n",
    "            233.008,\n",
    "            235.008,\n",
    "            238.008,\n",
    "            206.008]\n",
    "n_samples_mat = {'n_samples': SEED_samples_new}\n",
    "sio.savemat('./data/SEED/n_samples.mat', n_samples_mat)"
   ]
  },
  {
   "cell_type": "code",
   "execution_count": null,
   "metadata": {},
   "outputs": [],
   "source": [
    "fold = 0\n",
    "feature_dir = f'./runs_seed/raw_batch15_timeLen30_tf16_sf16_tfLen48_multiFact2_lr0.000700_wd0.015000_epochs100_randSeed7_accSel/{fold}/features1_de_1s_all_normTrain.mat'\n",
    "de_raw = "
   ]
  }
 ],
 "metadata": {
  "kernelspec": {
   "display_name": "cl_sster_env",
   "language": "python",
   "name": "python3"
  },
  "language_info": {
   "codemirror_mode": {
    "name": "ipython",
    "version": 3
   },
   "file_extension": ".py",
   "mimetype": "text/x-python",
   "name": "python",
   "nbconvert_exporter": "python",
   "pygments_lexer": "ipython3",
   "version": "3.11.4"
  }
 },
 "nbformat": 4,
 "nbformat_minor": 2
}
